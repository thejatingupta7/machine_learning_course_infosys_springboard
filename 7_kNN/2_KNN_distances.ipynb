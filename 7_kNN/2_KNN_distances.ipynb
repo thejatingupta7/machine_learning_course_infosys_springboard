{
 "cells": [
  {
   "cell_type": "markdown",
   "id": "5d3dd8b2-55c8-4ae0-8ab1-880f8d4f463c",
   "metadata": {},
   "source": [
    "## DistanceMetric class documentation\n",
    "[scikit-learn]()\n",
    "\n",
    "Metrics intended for real-valued vector spaces:\n",
    "\n",
    "| identifier\t| class name\t| args\t| distance function |\n",
    "|:- |:- |:- |:- |\n",
    "|“euclidean” | \tEuclideanDistance  |   | $\\sqrt{\\sum(x - y)^2)}$  |  \n",
    "|“manhattan” | ManhattanDistance |  | $\\sum\\big|x - y\\big|$|  \n",
    "|“chebyshev” | ChebyshevDistance |  | max${\\big|x - y\\big|}$ |  \n",
    "|“minkowski” | MinkowskiDistance\t | p\t | $\\sum(\\big|x - y\\big|^p)^{\\frac{1}{p}}$     | \n",
    "|“wminkowski” | WMinkowskiDistance\t | p, w\t | $\\sum(w\\big|x - y\\big|^p)^{\\frac{1}{p}}$     |\n",
    "|“seuclidean” | SEuclideanDistance\t | V\t | $\\sqrt{\\sum\\frac{(x - y)^2}{V})}$     | \n",
    "\n",
    "Refer to documentation for more on \n",
    "* Metrics intended for two-dimensional vector spaces\n",
    "* Metrics intended for integer-valued vector spaces\n",
    "* Metrics intended for boolean-valued vector spaces\n",
    "\n",
    "* User-defined distance"
   ]
  },
  {
   "cell_type": "markdown",
   "id": "94018951-be8f-4bbf-96e5-da54106ec443",
   "metadata": {},
   "source": [
    "Source: [Rorasa's blog](https://rorasa.wordpress.com/2012/05/13/l0-norm-l1-norm-l2-norm-l-infinity-norm/)\n",
    "\n",
    "* Mathematically a norm is a total size or length of all vectors in a vector space or matrices. \n",
    "* For simplicity, we can say that the higher the norm is, the bigger the (value in) matrix or vector is. \n",
    "* Norm may come in many forms and many names, including these popular name: Euclidean distance, Mean-squared Error, etc.\n",
    "* Most of the time you will see the norm appears in a equation like this:\n",
    "\n",
    "$\\left \\| x \\right \\|$ where $x$ can be a vector or a matrix.\n",
    "\n",
    "* Euclidean distance\n",
    "\n",
    "  * Most common\n",
    "  * L2 norm of two vectors. \n",
    "  * In a bidimensional plane, the Euclidean distance refigures as the straight line connecting two points, and you calculate it as the square root of the sum of the squared difference between the elements of two vectors. \n",
    "  * The Euclidean distance between points (1,2) and (3,3) can be computed $\\sqrt{(1-3)^2+(2-3)^2}$, which results in a distance of about 2.236.\n",
    "\n",
    "\n",
    "* Manhattan distance\n",
    "  * Another useful measure is the Manhattan distance\n",
    "  * L1 norm of two vectors\n",
    "  * Summing the absolute value of the difference between the elements of the vectors. \n",
    "  * If the Euclidean distance marks the shortest route, the Manhattan distance marks the longest route, resembling the directions of a taxi moving in a city. (The distance is also known as taxicab or city-block distance.) \n",
    "  * For instance, the Manhattan distance between points (1,2) and (3,3) is abs(1–3) and abs(2–3), which results in 3.\n",
    "\n",
    "\n",
    "* Chebyshev distance\n",
    "  * Takes the maximum of the absolute difference between the elements of the vectors. \n",
    "  * It is a distance measure that can represent how a king moves in the game of chess or, in warehouse logistics, the operations required by an overhead crane to move a crate from one place to another. \n",
    "  * In machine learning, the Chebyshev distance can prove useful when you have many dimensions to consider and most of them are just irrelevant or redundant (in Chebyshev, you just pick the one whose absolute difference is the largest). \n",
    "  * In the example used in previous sections, the distance is simply 2, the max between abs(1–3) and abs(2–3)."
   ]
  },
  {
   "cell_type": "code",
   "execution_count": null,
   "id": "1c8eced2-4c2a-4584-a804-ddc4c8b0a356",
   "metadata": {},
   "outputs": [],
   "source": []
  }
 ],
 "metadata": {
  "kernelspec": {
   "display_name": "Python 3 (ipykernel)",
   "language": "python",
   "name": "python3"
  },
  "language_info": {
   "codemirror_mode": {
    "name": "ipython",
    "version": 3
   },
   "file_extension": ".py",
   "mimetype": "text/x-python",
   "name": "python",
   "nbconvert_exporter": "python",
   "pygments_lexer": "ipython3",
   "version": "3.11.5"
  }
 },
 "nbformat": 4,
 "nbformat_minor": 5
}
